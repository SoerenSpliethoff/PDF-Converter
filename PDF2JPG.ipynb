{
 "cells": [
  {
   "cell_type": "raw",
   "id": "f293946d",
   "metadata": {
    "scrolled": false
   },
   "source": [
    "pip install tkinter"
   ]
  },
  {
   "cell_type": "raw",
   "id": "e31f1ec4",
   "metadata": {},
   "source": [
    "pip install pdf2image"
   ]
  },
  {
   "cell_type": "raw",
   "id": "c501140b",
   "metadata": {},
   "source": [
    "pip install --upgrade pip"
   ]
  },
  {
   "cell_type": "raw",
   "id": "7a80fe51",
   "metadata": {},
   "source": [
    "pip install pypdfium2"
   ]
  },
  {
   "cell_type": "code",
   "execution_count": 1,
   "id": "b4cb520e",
   "metadata": {},
   "outputs": [],
   "source": [
    "from tkinter import *\n",
    "from tkinter import messagebox\n",
    "from pdf2image import convert_from_path\n",
    "import pypdfium2 as pdfium\n",
    "import os"
   ]
  },
  {
   "cell_type": "markdown",
   "id": "6d37c5a5",
   "metadata": {},
   "source": [
    "Converts single pages"
   ]
  },
  {
   "cell_type": "code",
   "execution_count": 26,
   "id": "054baee4",
   "metadata": {},
   "outputs": [],
   "source": [
    "pdf = pdfium.PdfDocument(r\"C:\\Users\\soere\\OneDrive\\Desktop\\Python Projects\\Untitled Folder\\apprenticeships respond to innovation.pdf\")\n",
    "#n_pages = len(pdf)\n",
    "for page_number, image in enumerate(pdf):\n",
    "    page = pdf.get_page(page_number)\n",
    "    pil_image = page.render(scale = 300/72).to_pil()\n",
    "    pil_image.save(f\"image_{page_number+1}.png\")"
   ]
  },
  {
   "cell_type": "code",
   "execution_count": 3,
   "id": "bfed9e72",
   "metadata": {},
   "outputs": [],
   "source": [
    "root = Tk()\n",
    "root.title(\"PDF to JPG\")\n",
    "root.geometry(\"600x400\")\n",
    "root.config(bg=\"Blue\")\n",
    "\n",
    "def pdf2jpg():\n",
    "    file_path = enter_path.get()\n",
    "    # Convert to a raw string\n",
    "    file_path = r\"{}\".format(file_path)\n",
    "    \n",
    "    # Check if the file path exists and is a PDF\n",
    "    if os.path.exists(file_path) and file_path.lower().endswith('.pdf'):\n",
    "        try:\n",
    "            pdf = pdfium.PdfDocument(f\"{file_path}\")\n",
    "            for page_number, image in enumerate(pdf):\n",
    "                page = pdf.get_page(page_number)\n",
    "                pil_image = page.render(scale = 300/72).to_pil()\n",
    "                pil_image.save(f\"output_{page_number+1}.jpg\")\n",
    "            messagebox.showinfo(\"Result\", \"Conversion Successful\")\n",
    "        except Exception as e:\n",
    "            messagebox.showerror(\"Error\", f\"An error occurred: {e}\")\n",
    "    else:\n",
    "        messagebox.showerror(\"Error\", \"Invalid file path or file is not a PDF\")\n",
    "\n",
    "Label(root, text=\"Convert to JPG\", font=(\"Times 15 bold\"), fg=\"White\", bg=\"Blue\").pack(pady=10)\n",
    "\n",
    "Label(root, text=\"File Location:\", font=(\"Times 15\"), fg=\"White\", bg=\"Red\").place(x=20, y=55)\n",
    "\n",
    "enter_path = Entry(root, width=50,  font=(\"Times 12\"), bg=\"Green\", border=3)\n",
    "enter_path.focus\n",
    "enter_path.place(x=150, y=50)\n",
    "\n",
    "btn = Button(root, text=\"Convert\", relief=RAISED, borderwidth=2, font=(\"Times\", 12, \"bold\"), bg=\"Purple\", fg = \"White\", cursor=\"hand2\", command=pdf2jpg)\n",
    "btn.place(x=150, y=100)\n",
    "\n",
    "root.mainloop()"
   ]
  },
  {
   "cell_type": "code",
   "execution_count": null,
   "id": "12ebf7d7",
   "metadata": {},
   "outputs": [],
   "source": []
  },
  {
   "cell_type": "code",
   "execution_count": null,
   "id": "4a9084b1",
   "metadata": {},
   "outputs": [],
   "source": []
  },
  {
   "cell_type": "code",
   "execution_count": null,
   "id": "ee857896",
   "metadata": {},
   "outputs": [],
   "source": []
  },
  {
   "cell_type": "code",
   "execution_count": null,
   "id": "8d854d84",
   "metadata": {},
   "outputs": [],
   "source": []
  },
  {
   "cell_type": "code",
   "execution_count": null,
   "id": "4ff63dc0",
   "metadata": {},
   "outputs": [],
   "source": []
  },
  {
   "cell_type": "code",
   "execution_count": null,
   "id": "751002aa",
   "metadata": {},
   "outputs": [],
   "source": []
  },
  {
   "cell_type": "code",
   "execution_count": null,
   "id": "75876a78",
   "metadata": {},
   "outputs": [],
   "source": []
  },
  {
   "cell_type": "code",
   "execution_count": null,
   "id": "f420e94c",
   "metadata": {},
   "outputs": [],
   "source": []
  },
  {
   "cell_type": "code",
   "execution_count": null,
   "id": "4dcbbdfb",
   "metadata": {},
   "outputs": [],
   "source": []
  }
 ],
 "metadata": {
  "kernelspec": {
   "display_name": "Python 3 (ipykernel)",
   "language": "python",
   "name": "python3"
  },
  "language_info": {
   "codemirror_mode": {
    "name": "ipython",
    "version": 3
   },
   "file_extension": ".py",
   "mimetype": "text/x-python",
   "name": "python",
   "nbconvert_exporter": "python",
   "pygments_lexer": "ipython3",
   "version": "3.10.11"
  }
 },
 "nbformat": 4,
 "nbformat_minor": 5
}
